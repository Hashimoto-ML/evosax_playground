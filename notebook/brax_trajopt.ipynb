{
 "cells": [
  {
   "cell_type": "code",
   "execution_count": 1,
   "metadata": {},
   "outputs": [
    {
     "ename": "ModuleNotFoundError",
     "evalue": "No module named 'seaborn'",
     "output_type": "error",
     "traceback": [
      "\u001b[0;31m---------------------------------------------------------------------------\u001b[0m",
      "\u001b[0;31mModuleNotFoundError\u001b[0m                       Traceback (most recent call last)",
      "Cell \u001b[0;32mIn [1], line 5\u001b[0m\n\u001b[1;32m      3\u001b[0m \u001b[39mfrom\u001b[39;00m \u001b[39mIPython\u001b[39;00m\u001b[39m.\u001b[39;00m\u001b[39mdisplay\u001b[39;00m \u001b[39mimport\u001b[39;00m Image\n\u001b[1;32m      4\u001b[0m \u001b[39mimport\u001b[39;00m \u001b[39mmatplotlib\u001b[39;00m\u001b[39m.\u001b[39;00m\u001b[39mpyplot\u001b[39;00m \u001b[39mas\u001b[39;00m \u001b[39mplt\u001b[39;00m \n\u001b[0;32m----> 5\u001b[0m \u001b[39mimport\u001b[39;00m \u001b[39mseaborn\u001b[39;00m \u001b[39mas\u001b[39;00m \u001b[39msns\u001b[39;00m\n\u001b[1;32m      7\u001b[0m \u001b[39mimport\u001b[39;00m \u001b[39mjax\u001b[39;00m \n\u001b[1;32m      8\u001b[0m \u001b[39mimport\u001b[39;00m \u001b[39mjax\u001b[39;00m\u001b[39m.\u001b[39;00m\u001b[39mnumpy\u001b[39;00m \u001b[39mas\u001b[39;00m \u001b[39mjnp\u001b[39;00m\n",
      "\u001b[0;31mModuleNotFoundError\u001b[0m: No module named 'seaborn'"
     ]
    }
   ],
   "source": [
    "import time\n",
    "from functools import partial\n",
    "from IPython.display import Image\n",
    "import matplotlib.pyplot as plt \n",
    "import seaborn as sns\n",
    "\n",
    "import jax \n",
    "import jax.numpy as jnp\n",
    "from brax import envs\n",
    "from brax.io import image\n",
    "from brax import jumpy as jp\n",
    "import evosax"
   ]
  },
  {
   "cell_type": "code",
   "execution_count": 46,
   "metadata": {},
   "outputs": [],
   "source": [
    "# create env\n",
    "env = envs.create(env_name=\"ant\")\n",
    "jit_env_step = jax.jit(env.step)\n",
    "rng = jax.random.PRNGKey(0)\n",
    "T = 100"
   ]
  },
  {
   "cell_type": "code",
   "execution_count": 47,
   "metadata": {},
   "outputs": [],
   "source": [
    "@jax.jit\n",
    "def eval_action_sequence(actions):\n",
    "    reward = 0\n",
    "    state = env.reset(rng=jax.random.PRNGKey(42))\n",
    "    def body(i, carry):\n",
    "        state, reward = carry\n",
    "        state = jit_env_step(state, actions[i])\n",
    "        reward = reward + state.reward \n",
    "        return [state, reward]\n",
    "    carry = jax.lax.fori_loop(0, len(actions), body, [state, reward])\n",
    "    return carry[1]"
   ]
  },
  {
   "cell_type": "code",
   "execution_count": 78,
   "metadata": {},
   "outputs": [],
   "source": [
    "def run_es(rng, strategy, T, epochs=500):\n",
    "    es_params = strategy.default_params\n",
    "    state = strategy.initialize(rng, es_params)\n",
    "    rewards = []\n",
    "    times = [time.time()]\n",
    "    for epoch in range(epochs):\n",
    "        rng, rng_gen, rng_eval = jax.random.split(rng, 3)\n",
    "        x, state = strategy.ask(rng_gen, state, es_params)\n",
    "        actions = x.reshape(-1, T, env.action_size)\n",
    "        reward = jax.vmap(eval_action_sequence)(actions)\n",
    "        state = strategy.tell(x, -reward, state, es_params)\n",
    "        rewards.append(-state.best_fitness)\n",
    "        times.append(time.time())\n",
    "    times = [t - times[0] for t in times[:-1]]\n",
    "    return rewards, times, state"
   ]
  },
  {
   "cell_type": "code",
   "execution_count": 83,
   "metadata": {},
   "outputs": [],
   "source": [
    "strategy = evosax.CMA_ES(num_dims=T*env.action_size, popsize=256)\n",
    "CMA_rewards, CMA_times, CMA_states = run_es(rng, strategy, T)"
   ]
  },
  {
   "cell_type": "code",
   "execution_count": 81,
   "metadata": {},
   "outputs": [],
   "source": [
    "strategy = evosax.PSO(num_dims=T*env.action_size, popsize=256)\n",
    "PSO_rewards, PSO_times, PSO_states = run_es(rng, strategy, T)"
   ]
  },
  {
   "cell_type": "code",
   "execution_count": 84,
   "metadata": {},
   "outputs": [],
   "source": [
    "strategy = evosax.GLD(num_dims=T*env.action_size, popsize=256)\n",
    "GLD_rewards, GLD_times, GLD_states = run_es(rng, strategy, T)"
   ]
  },
  {
   "cell_type": "code",
   "execution_count": 85,
   "metadata": {},
   "outputs": [],
   "source": [
    "strategy = evosax.ARS(num_dims=T*env.action_size, popsize=256)\n",
    "ARS_rewards, ARS_times, ARS_states = run_es(rng, strategy, T)"
   ]
  },
  {
   "cell_type": "code",
   "execution_count": 86,
   "metadata": {},
   "outputs": [],
   "source": [
    "strategy = evosax.PersistentES(num_dims=T*env.action_size, popsize=256)\n",
    "PES_rewards, PES_times, PES_states = run_es(rng, strategy, T)"
   ]
  },
  {
   "cell_type": "code",
   "execution_count": 2,
   "metadata": {},
   "outputs": [
    {
     "ename": "NameError",
     "evalue": "name 'CMA_times' is not defined",
     "output_type": "error",
     "traceback": [
      "\u001b[0;31m---------------------------------------------------------------------------\u001b[0m",
      "\u001b[0;31mNameError\u001b[0m                                 Traceback (most recent call last)",
      "Cell \u001b[0;32mIn [2], line 1\u001b[0m\n\u001b[0;32m----> 1\u001b[0m plt\u001b[39m.\u001b[39mplot(CMA_times, CMA_rewards, label\u001b[39m=\u001b[39m\u001b[39m\"\u001b[39m\u001b[39mCMA_ES\u001b[39m\u001b[39m\"\u001b[39m)\n\u001b[1;32m      2\u001b[0m plt\u001b[39m.\u001b[39mplot(PSO_times, PSO_rewards, label\u001b[39m=\u001b[39m\u001b[39m\"\u001b[39m\u001b[39mPSO\u001b[39m\u001b[39m\"\u001b[39m)\n\u001b[1;32m      3\u001b[0m plt\u001b[39m.\u001b[39mplot(GLD_times, GLD_rewards, label\u001b[39m=\u001b[39m\u001b[39m\"\u001b[39m\u001b[39mGLD\u001b[39m\u001b[39m\"\u001b[39m)\n",
      "\u001b[0;31mNameError\u001b[0m: name 'CMA_times' is not defined"
     ]
    }
   ],
   "source": [
    "plt.plot(CMA_times, CMA_rewards, label=\"CMA_ES\")\n",
    "plt.plot(PSO_times, PSO_rewards, label=\"PSO\")\n",
    "plt.plot(GLD_times, GLD_rewards, label=\"GLD\")\n",
    "plt.plot(ARS_times, ARS_rewards, label=\"ARS\")\n",
    "plt.plot(PES_times, PES_rewards, label=\"PES\")\n",
    "plt.legend()\n",
    "plt.title(\"Environment : Ant\")\n",
    "plt.xlabel(\"time [s]\")\n",
    "plt.ylabel(\"reward\")\n",
    "plt.show()"
   ]
  },
  {
   "cell_type": "code",
   "execution_count": 50,
   "metadata": {},
   "outputs": [],
   "source": [
    "def get_image(evo_state):    \n",
    "    x = evo_state.best_member\n",
    "    actions = x.reshape(T, env.action_size)\n",
    "    rollout = []\n",
    "    state = env.reset(rng=jax.random.PRNGKey(42))\n",
    "    for action in actions:\n",
    "        state = jit_env_step(state, action)\n",
    "        rollout.append(state)\n",
    "    return image.render(env.sys, [s.qp for s in rollout], width=320, height=320)"
   ]
  },
  {
   "cell_type": "code",
   "execution_count": null,
   "metadata": {},
   "outputs": [],
   "source": []
  }
 ],
 "metadata": {
  "kernelspec": {
   "display_name": "Python 3 (ipykernel)",
   "language": "python",
   "name": "python3"
  },
  "language_info": {
   "codemirror_mode": {
    "name": "ipython",
    "version": 3
   },
   "file_extension": ".py",
   "mimetype": "text/x-python",
   "name": "python",
   "nbconvert_exporter": "python",
   "pygments_lexer": "ipython3",
   "version": "3.9.2"
  },
  "orig_nbformat": 4
 },
 "nbformat": 4,
 "nbformat_minor": 2
}
